{
 "cells": [
  {
   "cell_type": "markdown",
   "metadata": {},
   "source": [
    "<h1>Faktör Analizi</h1>"
   ]
  },
  {
   "cell_type": "markdown",
   "metadata": {},
   "source": [
    "Değişkenler arasındaki gizli ilişkileri açığa çıkarmak için kullanılan bir analiz türüdür."
   ]
  },
  {
   "cell_type": "code",
   "execution_count": 2,
   "metadata": {},
   "outputs": [],
   "source": [
    "import pandas as pd\n",
    "from sklearn.decomposition import FactorAnalysis"
   ]
  },
  {
   "cell_type": "code",
   "execution_count": 3,
   "metadata": {},
   "outputs": [],
   "source": [
    "data = {\n",
    "    'Kişi ID': [1, 2, 3, 4, 5],\n",
    "    'Soru1': [4, 5, 2, 3, 4],\n",
    "    'Soru2': [3, 4, 1, 2, 3],\n",
    "    'Soru3': [2, 3, 4, 5, 2],\n",
    "    'Soru4': [1, 2, 3, 4, 5]\n",
    "}"
   ]
  },
  {
   "cell_type": "code",
   "execution_count": 4,
   "metadata": {},
   "outputs": [],
   "source": [
    "# Verileri DataFrame'e dönüştürelim\n",
    "df = pd.DataFrame(data)\n",
    "# Bağımsız değişkenleri ayıralım\n",
    "X = df.drop(['Kişi ID'], axis=1)"
   ]
  },
  {
   "cell_type": "code",
   "execution_count": 5,
   "metadata": {},
   "outputs": [
    {
     "name": "stdout",
     "output_type": "stream",
     "text": [
      "Faktörler:\n",
      "   Kişi ID  Faktör 1  Faktör 2\n",
      "0        1 -0.392232  0.986583\n",
      "1        2 -1.372813  0.161334\n",
      "2        3  1.568929  0.328861\n",
      "3        4  0.588348 -0.496389\n",
      "4        5 -0.392232 -0.980389\n"
     ]
    }
   ],
   "source": [
    "# Faktör analizi modelini oluşturalım ve uygulayalım\n",
    "factor_analysis = FactorAnalysis(n_components=2)\n",
    "factors = factor_analysis.fit_transform(X)\n",
    "# Faktör analizi sonuçlarını DataFrame'e ekleyelim\n",
    "df['Faktör 1'] = factors[:, 0]\n",
    "df['Faktör 2'] = factors[:, 1]\n",
    "print(\"Faktörler:\")\n",
    "print(df[['Kişi ID', 'Faktör 1', 'Faktör 2']])\n"
   ]
  }
 ],
 "metadata": {
  "kernelspec": {
   "display_name": "Python 3",
   "language": "python",
   "name": "python3"
  },
  "language_info": {
   "codemirror_mode": {
    "name": "ipython",
    "version": 3
   },
   "file_extension": ".py",
   "mimetype": "text/x-python",
   "name": "python",
   "nbconvert_exporter": "python",
   "pygments_lexer": "ipython3",
   "version": "3.11.5"
  }
 },
 "nbformat": 4,
 "nbformat_minor": 2
}
